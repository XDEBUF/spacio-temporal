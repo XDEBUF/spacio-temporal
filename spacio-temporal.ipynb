{
 "cells": [
  {
   "cell_type": "code",
   "execution_count": 2,
   "id": "initial_id",
   "metadata": {
    "collapsed": true,
    "ExecuteTime": {
     "end_time": "2024-01-10T13:24:39.941247808Z",
     "start_time": "2024-01-10T13:21:00.509604215Z"
    }
   },
   "outputs": [
    {
     "name": "stderr",
     "output_type": "stream",
     "text": [
      "/tmp/ipykernel_48577/2041467737.py:11: DtypeWarning: Columns (6) have mixed types. Specify dtype option on import or set low_memory=False.\n",
      "  df = pd.read_csv(filename, index_col=None, header=0)\n",
      "/tmp/ipykernel_48577/2041467737.py:11: DtypeWarning: Columns (6) have mixed types. Specify dtype option on import or set low_memory=False.\n",
      "  df = pd.read_csv(filename, index_col=None, header=0)\n",
      "/tmp/ipykernel_48577/2041467737.py:11: DtypeWarning: Columns (6) have mixed types. Specify dtype option on import or set low_memory=False.\n",
      "  df = pd.read_csv(filename, index_col=None, header=0)\n",
      "/tmp/ipykernel_48577/2041467737.py:11: DtypeWarning: Columns (6) have mixed types. Specify dtype option on import or set low_memory=False.\n",
      "  df = pd.read_csv(filename, index_col=None, header=0)\n",
      "/tmp/ipykernel_48577/2041467737.py:11: DtypeWarning: Columns (6) have mixed types. Specify dtype option on import or set low_memory=False.\n",
      "  df = pd.read_csv(filename, index_col=None, header=0)\n",
      "/tmp/ipykernel_48577/2041467737.py:11: DtypeWarning: Columns (6) have mixed types. Specify dtype option on import or set low_memory=False.\n",
      "  df = pd.read_csv(filename, index_col=None, header=0)\n",
      "/tmp/ipykernel_48577/2041467737.py:11: DtypeWarning: Columns (6) have mixed types. Specify dtype option on import or set low_memory=False.\n",
      "  df = pd.read_csv(filename, index_col=None, header=0)\n",
      "/tmp/ipykernel_48577/2041467737.py:11: DtypeWarning: Columns (6) have mixed types. Specify dtype option on import or set low_memory=False.\n",
      "  df = pd.read_csv(filename, index_col=None, header=0)\n",
      "/tmp/ipykernel_48577/2041467737.py:11: DtypeWarning: Columns (6) have mixed types. Specify dtype option on import or set low_memory=False.\n",
      "  df = pd.read_csv(filename, index_col=None, header=0)\n",
      "/tmp/ipykernel_48577/2041467737.py:11: DtypeWarning: Columns (6) have mixed types. Specify dtype option on import or set low_memory=False.\n",
      "  df = pd.read_csv(filename, index_col=None, header=0)\n",
      "/tmp/ipykernel_48577/2041467737.py:11: DtypeWarning: Columns (6) have mixed types. Specify dtype option on import or set low_memory=False.\n",
      "  df = pd.read_csv(filename, index_col=None, header=0)\n",
      "/tmp/ipykernel_48577/2041467737.py:11: DtypeWarning: Columns (6) have mixed types. Specify dtype option on import or set low_memory=False.\n",
      "  df = pd.read_csv(filename, index_col=None, header=0)\n"
     ]
    }
   ],
   "source": [
    "\n",
    "import pandas as pd\n",
    "import glob\n",
    "import os\n",
    "\n",
    "path = r'./' # use your path\n",
    "all_files = glob.glob(\"./yellow_*.csv\")\n",
    "\n",
    "li = []\n",
    "\n",
    "for filename in all_files:\n",
    "    df = pd.read_csv(filename, index_col=None, header=0)\n",
    "    li.append(df)\n",
    "\n",
    "frame = pd.concat(li, axis=0, ignore_index=True)\n"
   ]
  },
  {
   "cell_type": "code",
   "execution_count": 3,
   "outputs": [
    {
     "data": {
      "text/plain": "   VendorID tpep_pickup_datetime tpep_dropoff_datetime  passenger_count  \\\n0       1.0  2019-05-01 00:14:50   2019-05-01 00:16:48              1.0   \n1       1.0  2019-05-01 00:35:54   2019-05-01 00:37:27              1.0   \n2       1.0  2019-05-01 00:37:45   2019-05-01 00:37:49              1.0   \n3       1.0  2019-05-01 00:44:57   2019-05-01 00:50:11              1.0   \n4       1.0  2019-05-01 00:59:48   2019-05-01 01:10:22              1.0   \n5       2.0  2019-05-01 00:48:04   2019-05-01 00:49:00              1.0   \n6       2.0  2019-05-01 00:05:26   2019-05-01 00:05:34              1.0   \n7       1.0  2019-05-01 00:23:20   2019-05-01 00:32:57              1.0   \n8       1.0  2019-05-01 00:35:54   2019-05-01 00:47:49              1.0   \n9       1.0  2019-05-01 00:20:12   2019-05-01 00:26:52              1.0   \n\n   trip_distance  RatecodeID store_and_fwd_flag  PULocationID  DOLocationID  \\\n0            0.0         1.0                  N           145           145   \n1            1.5         1.0                  N           145           145   \n2            1.5         1.0                  N           145           145   \n3            0.7         1.0                  N           161           161   \n4            2.0         1.0                  N           163           141   \n5            0.0         1.0                  N           193           193   \n6            0.0         1.0                  N           193           193   \n7            2.5         1.0                  N           260            56   \n8            2.8         1.0                  N            56           226   \n9            2.0         1.0                  N            79           164   \n\n   payment_type  fare_amount  extra  mta_tax  tip_amount  tolls_amount  \\\n0           2.0          3.0    0.5      0.5        0.00           0.0   \n1           2.0          3.0    0.5      0.5        0.00           0.0   \n2           2.0          2.5    0.5      0.5        0.00           0.0   \n3           2.0          5.0    3.0      0.5        0.00           0.0   \n4           1.0          9.5    3.0      0.5        2.00           0.0   \n5           2.0          2.5    0.5      0.5        0.00           0.0   \n6           2.0          2.5    0.5      0.5        0.00           0.0   \n7           2.0         10.0    0.5      0.5        0.00           0.0   \n8           2.0         11.5    0.5      0.5        0.00           0.0   \n9           1.0          8.0    3.0      0.5        2.35           0.0   \n\n   improvement_surcharge  total_amount  congestion_surcharge  \n0                    0.3          4.30                   0.0  \n1                    0.3          4.30                   0.0  \n2                    0.3          3.80                   0.0  \n3                    0.3          8.80                   2.5  \n4                    0.3         15.30                   2.5  \n5                    0.3          3.80                   0.0  \n6                    0.3          3.80                   0.0  \n7                    0.3         11.30                   0.0  \n8                    0.3         12.80                   0.0  \n9                    0.3         14.15                   2.5  ",
      "text/html": "<div>\n<style scoped>\n    .dataframe tbody tr th:only-of-type {\n        vertical-align: middle;\n    }\n\n    .dataframe tbody tr th {\n        vertical-align: top;\n    }\n\n    .dataframe thead th {\n        text-align: right;\n    }\n</style>\n<table border=\"1\" class=\"dataframe\">\n  <thead>\n    <tr style=\"text-align: right;\">\n      <th></th>\n      <th>VendorID</th>\n      <th>tpep_pickup_datetime</th>\n      <th>tpep_dropoff_datetime</th>\n      <th>passenger_count</th>\n      <th>trip_distance</th>\n      <th>RatecodeID</th>\n      <th>store_and_fwd_flag</th>\n      <th>PULocationID</th>\n      <th>DOLocationID</th>\n      <th>payment_type</th>\n      <th>fare_amount</th>\n      <th>extra</th>\n      <th>mta_tax</th>\n      <th>tip_amount</th>\n      <th>tolls_amount</th>\n      <th>improvement_surcharge</th>\n      <th>total_amount</th>\n      <th>congestion_surcharge</th>\n    </tr>\n  </thead>\n  <tbody>\n    <tr>\n      <th>0</th>\n      <td>1.0</td>\n      <td>2019-05-01 00:14:50</td>\n      <td>2019-05-01 00:16:48</td>\n      <td>1.0</td>\n      <td>0.0</td>\n      <td>1.0</td>\n      <td>N</td>\n      <td>145</td>\n      <td>145</td>\n      <td>2.0</td>\n      <td>3.0</td>\n      <td>0.5</td>\n      <td>0.5</td>\n      <td>0.00</td>\n      <td>0.0</td>\n      <td>0.3</td>\n      <td>4.30</td>\n      <td>0.0</td>\n    </tr>\n    <tr>\n      <th>1</th>\n      <td>1.0</td>\n      <td>2019-05-01 00:35:54</td>\n      <td>2019-05-01 00:37:27</td>\n      <td>1.0</td>\n      <td>1.5</td>\n      <td>1.0</td>\n      <td>N</td>\n      <td>145</td>\n      <td>145</td>\n      <td>2.0</td>\n      <td>3.0</td>\n      <td>0.5</td>\n      <td>0.5</td>\n      <td>0.00</td>\n      <td>0.0</td>\n      <td>0.3</td>\n      <td>4.30</td>\n      <td>0.0</td>\n    </tr>\n    <tr>\n      <th>2</th>\n      <td>1.0</td>\n      <td>2019-05-01 00:37:45</td>\n      <td>2019-05-01 00:37:49</td>\n      <td>1.0</td>\n      <td>1.5</td>\n      <td>1.0</td>\n      <td>N</td>\n      <td>145</td>\n      <td>145</td>\n      <td>2.0</td>\n      <td>2.5</td>\n      <td>0.5</td>\n      <td>0.5</td>\n      <td>0.00</td>\n      <td>0.0</td>\n      <td>0.3</td>\n      <td>3.80</td>\n      <td>0.0</td>\n    </tr>\n    <tr>\n      <th>3</th>\n      <td>1.0</td>\n      <td>2019-05-01 00:44:57</td>\n      <td>2019-05-01 00:50:11</td>\n      <td>1.0</td>\n      <td>0.7</td>\n      <td>1.0</td>\n      <td>N</td>\n      <td>161</td>\n      <td>161</td>\n      <td>2.0</td>\n      <td>5.0</td>\n      <td>3.0</td>\n      <td>0.5</td>\n      <td>0.00</td>\n      <td>0.0</td>\n      <td>0.3</td>\n      <td>8.80</td>\n      <td>2.5</td>\n    </tr>\n    <tr>\n      <th>4</th>\n      <td>1.0</td>\n      <td>2019-05-01 00:59:48</td>\n      <td>2019-05-01 01:10:22</td>\n      <td>1.0</td>\n      <td>2.0</td>\n      <td>1.0</td>\n      <td>N</td>\n      <td>163</td>\n      <td>141</td>\n      <td>1.0</td>\n      <td>9.5</td>\n      <td>3.0</td>\n      <td>0.5</td>\n      <td>2.00</td>\n      <td>0.0</td>\n      <td>0.3</td>\n      <td>15.30</td>\n      <td>2.5</td>\n    </tr>\n    <tr>\n      <th>5</th>\n      <td>2.0</td>\n      <td>2019-05-01 00:48:04</td>\n      <td>2019-05-01 00:49:00</td>\n      <td>1.0</td>\n      <td>0.0</td>\n      <td>1.0</td>\n      <td>N</td>\n      <td>193</td>\n      <td>193</td>\n      <td>2.0</td>\n      <td>2.5</td>\n      <td>0.5</td>\n      <td>0.5</td>\n      <td>0.00</td>\n      <td>0.0</td>\n      <td>0.3</td>\n      <td>3.80</td>\n      <td>0.0</td>\n    </tr>\n    <tr>\n      <th>6</th>\n      <td>2.0</td>\n      <td>2019-05-01 00:05:26</td>\n      <td>2019-05-01 00:05:34</td>\n      <td>1.0</td>\n      <td>0.0</td>\n      <td>1.0</td>\n      <td>N</td>\n      <td>193</td>\n      <td>193</td>\n      <td>2.0</td>\n      <td>2.5</td>\n      <td>0.5</td>\n      <td>0.5</td>\n      <td>0.00</td>\n      <td>0.0</td>\n      <td>0.3</td>\n      <td>3.80</td>\n      <td>0.0</td>\n    </tr>\n    <tr>\n      <th>7</th>\n      <td>1.0</td>\n      <td>2019-05-01 00:23:20</td>\n      <td>2019-05-01 00:32:57</td>\n      <td>1.0</td>\n      <td>2.5</td>\n      <td>1.0</td>\n      <td>N</td>\n      <td>260</td>\n      <td>56</td>\n      <td>2.0</td>\n      <td>10.0</td>\n      <td>0.5</td>\n      <td>0.5</td>\n      <td>0.00</td>\n      <td>0.0</td>\n      <td>0.3</td>\n      <td>11.30</td>\n      <td>0.0</td>\n    </tr>\n    <tr>\n      <th>8</th>\n      <td>1.0</td>\n      <td>2019-05-01 00:35:54</td>\n      <td>2019-05-01 00:47:49</td>\n      <td>1.0</td>\n      <td>2.8</td>\n      <td>1.0</td>\n      <td>N</td>\n      <td>56</td>\n      <td>226</td>\n      <td>2.0</td>\n      <td>11.5</td>\n      <td>0.5</td>\n      <td>0.5</td>\n      <td>0.00</td>\n      <td>0.0</td>\n      <td>0.3</td>\n      <td>12.80</td>\n      <td>0.0</td>\n    </tr>\n    <tr>\n      <th>9</th>\n      <td>1.0</td>\n      <td>2019-05-01 00:20:12</td>\n      <td>2019-05-01 00:26:52</td>\n      <td>1.0</td>\n      <td>2.0</td>\n      <td>1.0</td>\n      <td>N</td>\n      <td>79</td>\n      <td>164</td>\n      <td>1.0</td>\n      <td>8.0</td>\n      <td>3.0</td>\n      <td>0.5</td>\n      <td>2.35</td>\n      <td>0.0</td>\n      <td>0.3</td>\n      <td>14.15</td>\n      <td>2.5</td>\n    </tr>\n  </tbody>\n</table>\n</div>"
     },
     "execution_count": 3,
     "metadata": {},
     "output_type": "execute_result"
    }
   ],
   "source": [
    "frame.head(10)"
   ],
   "metadata": {
    "collapsed": false,
    "ExecuteTime": {
     "end_time": "2024-01-10T13:40:04.121004434Z",
     "start_time": "2024-01-10T13:40:04.079318650Z"
    }
   },
   "id": "4afa3ba36202039e"
  },
  {
   "cell_type": "code",
   "execution_count": 5,
   "outputs": [
    {
     "name": "stdout",
     "output_type": "stream",
     "text": [
      "<class 'pandas.core.frame.DataFrame'>\n",
      "RangeIndex: 101246797 entries, 0 to 101246796\n",
      "Data columns (total 18 columns):\n",
      " #   Column                 Dtype  \n",
      "---  ------                 -----  \n",
      " 0   VendorID               float64\n",
      " 1   tpep_pickup_datetime   object \n",
      " 2   tpep_dropoff_datetime  object \n",
      " 3   passenger_count        float64\n",
      " 4   trip_distance          float64\n",
      " 5   RatecodeID             float64\n",
      " 6   store_and_fwd_flag     object \n",
      " 7   PULocationID           int64  \n",
      " 8   DOLocationID           int64  \n",
      " 9   payment_type           float64\n",
      " 10  fare_amount            float64\n",
      " 11  extra                  float64\n",
      " 12  mta_tax                float64\n",
      " 13  tip_amount             float64\n",
      " 14  tolls_amount           float64\n",
      " 15  improvement_surcharge  float64\n",
      " 16  total_amount           float64\n",
      " 17  congestion_surcharge   float64\n",
      "dtypes: float64(13), int64(2), object(3)\n",
      "memory usage: 13.6+ GB\n"
     ]
    }
   ],
   "source": [
    "frame.info()"
   ],
   "metadata": {
    "collapsed": false,
    "ExecuteTime": {
     "end_time": "2024-01-10T13:40:44.447882971Z",
     "start_time": "2024-01-10T13:40:44.400117915Z"
    }
   },
   "id": "75db029496ee60a1"
  },
  {
   "cell_type": "code",
   "execution_count": null,
   "outputs": [],
   "source": [],
   "metadata": {
    "collapsed": false,
    "ExecuteTime": {
     "end_time": "2024-01-10T13:15:57.671804095Z",
     "start_time": "2024-01-10T13:15:57.631769974Z"
    }
   },
   "id": "f3575910c72edfea"
  },
  {
   "cell_type": "code",
   "execution_count": null,
   "outputs": [],
   "source": [],
   "metadata": {
    "collapsed": false,
    "ExecuteTime": {
     "end_time": "2024-01-10T13:16:08.375849198Z",
     "start_time": "2024-01-10T13:16:08.346182115Z"
    }
   },
   "id": "8faffa09f48f9093"
  },
  {
   "cell_type": "code",
   "execution_count": 1,
   "outputs": [],
   "source": [],
   "metadata": {
    "collapsed": false,
    "ExecuteTime": {
     "end_time": "2024-01-10T13:16:22.980349798Z",
     "start_time": "2024-01-10T13:16:22.886144058Z"
    }
   },
   "id": "b531b67b36ae541a"
  },
  {
   "cell_type": "code",
   "execution_count": 1,
   "outputs": [],
   "source": [],
   "metadata": {
    "collapsed": false,
    "ExecuteTime": {
     "end_time": "2024-01-10T13:16:28.320967800Z",
     "start_time": "2024-01-10T13:16:28.276414088Z"
    }
   },
   "id": "3263838a26cc8723"
  },
  {
   "cell_type": "code",
   "execution_count": 1,
   "outputs": [],
   "source": [],
   "metadata": {
    "collapsed": false,
    "ExecuteTime": {
     "end_time": "2024-01-10T13:16:37.234236445Z",
     "start_time": "2024-01-10T13:16:37.187738603Z"
    }
   },
   "id": "2be23d5486b8654d"
  },
  {
   "cell_type": "code",
   "execution_count": 1,
   "outputs": [],
   "source": [],
   "metadata": {
    "collapsed": false,
    "ExecuteTime": {
     "end_time": "2024-01-10T13:16:41.810103004Z",
     "start_time": "2024-01-10T13:16:41.769006325Z"
    }
   },
   "id": "39b0ada2a9e99cac"
  },
  {
   "cell_type": "code",
   "execution_count": 1,
   "outputs": [],
   "source": [],
   "metadata": {
    "collapsed": false,
    "ExecuteTime": {
     "end_time": "2024-01-10T13:16:48.247387820Z",
     "start_time": "2024-01-10T13:16:48.212507388Z"
    }
   },
   "id": "38bb7577f61ef274"
  },
  {
   "cell_type": "code",
   "execution_count": null,
   "outputs": [],
   "source": [],
   "metadata": {
    "collapsed": false
   },
   "id": "4c3ea6f384e387cf"
  }
 ],
 "metadata": {
  "kernelspec": {
   "display_name": "Python 3",
   "language": "python",
   "name": "python3"
  },
  "language_info": {
   "codemirror_mode": {
    "name": "ipython",
    "version": 2
   },
   "file_extension": ".py",
   "mimetype": "text/x-python",
   "name": "python",
   "nbconvert_exporter": "python",
   "pygments_lexer": "ipython2",
   "version": "2.7.6"
  }
 },
 "nbformat": 4,
 "nbformat_minor": 5
}
